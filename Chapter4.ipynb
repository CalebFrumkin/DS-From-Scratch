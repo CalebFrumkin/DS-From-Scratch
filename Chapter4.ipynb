{
 "cells": [
  {
   "cell_type": "markdown",
   "metadata": {},
   "source": [
    "Vectors Section"
   ]
  },
  {
   "cell_type": "code",
   "execution_count": 2,
   "metadata": {},
   "outputs": [],
   "source": [
    "from typing import List"
   ]
  },
  {
   "cell_type": "code",
   "execution_count": 3,
   "metadata": {},
   "outputs": [],
   "source": [
    "Vector = List[float]\n",
    "\n",
    "heightWeightAge = [70, 170, 40]\n",
    "\n",
    "grades = [95, 80, 75, 62]"
   ]
  },
  {
   "cell_type": "code",
   "execution_count": 8,
   "metadata": {},
   "outputs": [],
   "source": [
    "def add(v: Vector, w: Vector) -> Vector:\n",
    "\n",
    "    assert len(v) == len(w), 'Vectors must be same length'\n",
    "\n",
    "    return [vi + wi for vi, wi in zip(v,w)]\n",
    "\n",
    "assert add([1,2,3], [4,5,6]) == [5,7,9], 'Verify Math'"
   ]
  },
  {
   "cell_type": "code",
   "execution_count": 11,
   "metadata": {},
   "outputs": [],
   "source": [
    "def subtract(v: Vector, w: Vector) -> Vector:\n",
    "\n",
    "    assert len(v) == len(w), 'Vectors must be same length'\n",
    "\n",
    "    return [vi - wi for vi, wi in zip(v,w)]\n",
    "\n",
    "assert subtract([1,2,3], [4,5,6]) == [-3,-3,-3], 'Verify Math'"
   ]
  },
  {
   "cell_type": "code",
   "execution_count": 15,
   "metadata": {},
   "outputs": [],
   "source": [
    "def vectorSum(vectors: List[Vector]) -> Vector:\n",
    "    assert vectors, 'no vectors provided'\n",
    "    \n",
    "    numElements = len(vectors[0])\n",
    "    assert all(len(v) == numElements for v in vectors), 'diff sizes'\n",
    "\n",
    "    return [sum(vector[i] for vector in vectors)\n",
    "            for i in range(numElements)]\n",
    "\n",
    "assert vectorSum([[1,3,4], [2,5,3], [6,2,1]]) == [9, 10, 8]"
   ]
  },
  {
   "cell_type": "code",
   "execution_count": 22,
   "metadata": {},
   "outputs": [],
   "source": [
    "def scalarMult(vector: Vector, s: float) -> Vector:\n",
    "\n",
    "    return [s * v for v in vector]\n",
    "\n",
    "assert scalarMult([1,2,3], 2) == [2, 4, 6]"
   ]
  },
  {
   "cell_type": "code",
   "execution_count": 28,
   "metadata": {},
   "outputs": [],
   "source": [
    "def vectorMean(vectors: List[Vector]) -> Vector:\n",
    "\n",
    "    n = len(vectors)\n",
    "    return scalarMult(vectorSum(vectors), 1/n)\n",
    "\n",
    "assert vectorMean([[1,4], [2.5,3], [4,5]]) == [2.5,4]"
   ]
  },
  {
   "cell_type": "code",
   "execution_count": 29,
   "metadata": {},
   "outputs": [],
   "source": [
    "def dot(v: Vector, w: Vector) -> float:\n",
    "    assert len(v) == len(w), 'must be same length'\n",
    "\n",
    "    return sum(vi * wi for vi, wi in zip(v, w))\n",
    "\n",
    "assert dot([1,2,3], [4,3,1]) == 13"
   ]
  },
  {
   "cell_type": "code",
   "execution_count": 30,
   "metadata": {},
   "outputs": [],
   "source": [
    "def sumOfSquares(v: Vector) -> float:\n",
    "    return dot(v,v)\n",
    "\n",
    "assert sumOfSquares([1,2,3]) == 14"
   ]
  },
  {
   "cell_type": "code",
   "execution_count": 31,
   "metadata": {},
   "outputs": [],
   "source": [
    "import math\n",
    "\n",
    "def magnitude(v: Vector) -> float:\n",
    "    return math.sqrt(sumOfSquares(v))\n",
    "\n",
    "assert magnitude([3,4]) == 5"
   ]
  },
  {
   "cell_type": "code",
   "execution_count": 34,
   "metadata": {},
   "outputs": [],
   "source": [
    "def squaredDist(v: Vector, w: Vector) -> float:\n",
    "    return sumOfSquares(subtract(v,w))\n",
    "\n",
    "def distance(v:Vector, w:Vector) -> float:\n",
    "    return math.sqrt(squaredDist(v, w))\n",
    "\n",
    "def distanceAlt (v: Vector, w: Vector) -> float:\n",
    "    return magnitude(subtract(v, w))"
   ]
  },
  {
   "cell_type": "markdown",
   "metadata": {},
   "source": [
    "Matrix Section"
   ]
  }
 ],
 "metadata": {
  "kernelspec": {
   "display_name": "dsfs",
   "language": "python",
   "name": "python3"
  },
  "language_info": {
   "codemirror_mode": {
    "name": "ipython",
    "version": 3
   },
   "file_extension": ".py",
   "mimetype": "text/x-python",
   "name": "python",
   "nbconvert_exporter": "python",
   "pygments_lexer": "ipython3",
   "version": "3.12.4"
  }
 },
 "nbformat": 4,
 "nbformat_minor": 2
}
